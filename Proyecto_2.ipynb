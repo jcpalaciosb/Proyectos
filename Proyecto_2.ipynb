{
  "nbformat": 4,
  "nbformat_minor": 0,
  "metadata": {
    "colab": {
      "provenance": [],
      "collapsed_sections": [
        "vB4QRjCSAmcx",
        "IcBYHnoXqeSx",
        "CF9o8LswXAzh",
        "UjrlVoMzf_p7",
        "fQbOVTa0GaBe"
      ],
      "authorship_tag": "ABX9TyOREey2/SMptAGw0tonvcpC",
      "include_colab_link": true
    },
    "kernelspec": {
      "name": "python3",
      "display_name": "Python 3"
    },
    "language_info": {
      "name": "python"
    }
  },
  "cells": [
    {
      "cell_type": "markdown",
      "metadata": {
        "id": "view-in-github",
        "colab_type": "text"
      },
      "source": [
        "<a href=\"https://colab.research.google.com/github/jcpalaciosb/Proyectos/blob/main/Proyecto_2.ipynb\" target=\"_parent\"><img src=\"https://colab.research.google.com/assets/colab-badge.svg\" alt=\"Open In Colab\"/></a>"
      ]
    },
    {
      "cell_type": "markdown",
      "source": [
        "# PROYECTO 2\n",
        "\n",
        "## Datos Personales\n",
        "\n",
        "* **Nombre Completo**: Juan Carlos Palacios Banchero\n",
        "* **ID Coding Dojo**: 81390\n",
        "* **Track**: Machine Learning\n",
        "* **Nombre del proyecto**: \n",
        "* **Parte Nro.**: \n"
      ],
      "metadata": {
        "id": "vB4QRjCSAmcx"
      }
    },
    {
      "cell_type": "code",
      "source": [
        "# montaje de librerias \n",
        "import pandas as pd\n",
        "from google.colab import drive\n",
        "drive.mount(\"/content/drive\")"
      ],
      "metadata": {
        "id": "LtaynuKWLG8l"
      },
      "execution_count": null,
      "outputs": []
    },
    {
      "cell_type": "markdown",
      "source": [
        "# PARTE 1\n",
        "\n",
        "Escoger el conjunto de datos de primera opción, y un conjunto de datos de reserva en caso de que el primero propuesto no se apruebe.  "
      ],
      "metadata": {
        "id": "IcBYHnoXqeSx"
      }
    },
    {
      "cell_type": "markdown",
      "source": [
        "Proponer dos conjuntos de datos que tengan cada uno un componente de aprendizaje supervisado. Pueden elegir un problema de regresión o clasificación para cada conjunto de datos propuesto.  \n",
        "\n",
        "Crear un cuaderno de Colab donde hayan subido y mostrado el .head() de cada uno de los conjuntos de datos.  Para cada uno de los conjuntos de datos propuestos, respondan las siguientes preguntas:\n",
        "\n",
        "1) Fuente de datos\n",
        "\n",
        "2) Breve descripción de datos\n",
        "\n",
        "3) ¿Cuál es el objetivo?\n",
        "\n",
        "4) ¿Este es un problema de clasificación o regresión?\n",
        "\n",
        "5) ¿Cuántas características hay?\n",
        "\n",
        "6) ¿Cuántas filas de datos hay?\n",
        "\n",
        "7) ¿Qué retos, si es que hay alguno, prevén en la limpieza, exploración o modelización con este conjunto de datos?"
      ],
      "metadata": {
        "id": "3CfhkCOMZJ9Y"
      }
    },
    {
      "cell_type": "markdown",
      "source": [
        "## Primera Opcion: "
      ],
      "metadata": {
        "id": "CF9o8LswXAzh"
      }
    },
    {
      "cell_type": "markdown",
      "source": [
        "1) Fuente de datos: [Stock Prediction Dataset - ADP](https://www.kaggle.com/datasets/abhishek14398/stock-prediction-dataset-adp)"
      ],
      "metadata": {
        "id": "ZOXEKNWQaGhx"
      }
    },
    {
      "cell_type": "markdown",
      "source": [
        "2) Breve descripcion de datos: \n",
        "\n",
        "* Este conjunto de datos contiene datos históricos de acciones de la empresa ADP Inc. durante 1980-2022. Se puede utilizar para predecir precios futuros para una mejor inversión."
      ],
      "metadata": {
        "id": "hr8I9BMfEJRg"
      }
    },
    {
      "cell_type": "markdown",
      "source": [
        " * Descripcion de los datos:\n",
        "\n",
        "| Column    | Description                                         |\n",
        "|-----------|-----------------------------------------------------|\n",
        "| Index     | Index                                               |\n",
        "| Date      | Date                                                |\n",
        "| High      | Highest Trading Value at Specific Window            |\n",
        "| Low       | Lowest Trading Value at Specific Window             |\n",
        "| Open      | Starting Transaction Value at Specific Window       |\n",
        "| Close     | Last Transaction Value at Specific Window           |\n",
        "| Volume    | Number of Transactions at Specific Window           |\n",
        "| Adj Close | Closing Value After Adjustment for Different Events |\n"
      ],
      "metadata": {
        "id": "rTXtkcJ2a2bm"
      }
    },
    {
      "cell_type": "code",
      "source": [
        "# carga de datos\n",
        "filename=\"/content/ADP-Data.csv\"\n",
        "df1 = pd.read_csv(filename)\n",
        "df1.head()"
      ],
      "metadata": {
        "id": "tySRFEklaQ_s",
        "colab": {
          "base_uri": "https://localhost:8080/",
          "height": 206
        },
        "outputId": "665047dd-7f9a-45c7-a45f-976c62674943"
      },
      "execution_count": 4,
      "outputs": [
        {
          "output_type": "execute_result",
          "data": {
            "text/plain": [
              "   Unnamed: 0        Date      High       Low  Open     Close     Volume  \\\n",
              "0           0  1980-03-17  0.927141  0.908554   0.0  0.917847  1158040.1   \n",
              "1           1  1980-03-18  0.930239  0.914749   0.0  0.927141  1622063.1   \n",
              "2           2  1980-03-19  0.942631  0.927141   0.0  0.942631  1367859.1   \n",
              "3           3  1980-03-20  0.961218  0.939533   0.0  0.939533  3046412.1   \n",
              "4           4  1980-03-21  0.948826  0.936435   0.0  0.936435  1020851.1   \n",
              "\n",
              "   Adj Close  \n",
              "0   0.520855  \n",
              "1   0.525637  \n",
              "2   0.533608  \n",
              "3   0.532014  \n",
              "4   0.530420  "
            ],
            "text/html": [
              "\n",
              "  <div id=\"df-25e0956e-7d4c-4f42-acfa-0ba404a94623\">\n",
              "    <div class=\"colab-df-container\">\n",
              "      <div>\n",
              "<style scoped>\n",
              "    .dataframe tbody tr th:only-of-type {\n",
              "        vertical-align: middle;\n",
              "    }\n",
              "\n",
              "    .dataframe tbody tr th {\n",
              "        vertical-align: top;\n",
              "    }\n",
              "\n",
              "    .dataframe thead th {\n",
              "        text-align: right;\n",
              "    }\n",
              "</style>\n",
              "<table border=\"1\" class=\"dataframe\">\n",
              "  <thead>\n",
              "    <tr style=\"text-align: right;\">\n",
              "      <th></th>\n",
              "      <th>Unnamed: 0</th>\n",
              "      <th>Date</th>\n",
              "      <th>High</th>\n",
              "      <th>Low</th>\n",
              "      <th>Open</th>\n",
              "      <th>Close</th>\n",
              "      <th>Volume</th>\n",
              "      <th>Adj Close</th>\n",
              "    </tr>\n",
              "  </thead>\n",
              "  <tbody>\n",
              "    <tr>\n",
              "      <th>0</th>\n",
              "      <td>0</td>\n",
              "      <td>1980-03-17</td>\n",
              "      <td>0.927141</td>\n",
              "      <td>0.908554</td>\n",
              "      <td>0.0</td>\n",
              "      <td>0.917847</td>\n",
              "      <td>1158040.1</td>\n",
              "      <td>0.520855</td>\n",
              "    </tr>\n",
              "    <tr>\n",
              "      <th>1</th>\n",
              "      <td>1</td>\n",
              "      <td>1980-03-18</td>\n",
              "      <td>0.930239</td>\n",
              "      <td>0.914749</td>\n",
              "      <td>0.0</td>\n",
              "      <td>0.927141</td>\n",
              "      <td>1622063.1</td>\n",
              "      <td>0.525637</td>\n",
              "    </tr>\n",
              "    <tr>\n",
              "      <th>2</th>\n",
              "      <td>2</td>\n",
              "      <td>1980-03-19</td>\n",
              "      <td>0.942631</td>\n",
              "      <td>0.927141</td>\n",
              "      <td>0.0</td>\n",
              "      <td>0.942631</td>\n",
              "      <td>1367859.1</td>\n",
              "      <td>0.533608</td>\n",
              "    </tr>\n",
              "    <tr>\n",
              "      <th>3</th>\n",
              "      <td>3</td>\n",
              "      <td>1980-03-20</td>\n",
              "      <td>0.961218</td>\n",
              "      <td>0.939533</td>\n",
              "      <td>0.0</td>\n",
              "      <td>0.939533</td>\n",
              "      <td>3046412.1</td>\n",
              "      <td>0.532014</td>\n",
              "    </tr>\n",
              "    <tr>\n",
              "      <th>4</th>\n",
              "      <td>4</td>\n",
              "      <td>1980-03-21</td>\n",
              "      <td>0.948826</td>\n",
              "      <td>0.936435</td>\n",
              "      <td>0.0</td>\n",
              "      <td>0.936435</td>\n",
              "      <td>1020851.1</td>\n",
              "      <td>0.530420</td>\n",
              "    </tr>\n",
              "  </tbody>\n",
              "</table>\n",
              "</div>\n",
              "      <button class=\"colab-df-convert\" onclick=\"convertToInteractive('df-25e0956e-7d4c-4f42-acfa-0ba404a94623')\"\n",
              "              title=\"Convert this dataframe to an interactive table.\"\n",
              "              style=\"display:none;\">\n",
              "        \n",
              "  <svg xmlns=\"http://www.w3.org/2000/svg\" height=\"24px\"viewBox=\"0 0 24 24\"\n",
              "       width=\"24px\">\n",
              "    <path d=\"M0 0h24v24H0V0z\" fill=\"none\"/>\n",
              "    <path d=\"M18.56 5.44l.94 2.06.94-2.06 2.06-.94-2.06-.94-.94-2.06-.94 2.06-2.06.94zm-11 1L8.5 8.5l.94-2.06 2.06-.94-2.06-.94L8.5 2.5l-.94 2.06-2.06.94zm10 10l.94 2.06.94-2.06 2.06-.94-2.06-.94-.94-2.06-.94 2.06-2.06.94z\"/><path d=\"M17.41 7.96l-1.37-1.37c-.4-.4-.92-.59-1.43-.59-.52 0-1.04.2-1.43.59L10.3 9.45l-7.72 7.72c-.78.78-.78 2.05 0 2.83L4 21.41c.39.39.9.59 1.41.59.51 0 1.02-.2 1.41-.59l7.78-7.78 2.81-2.81c.8-.78.8-2.07 0-2.86zM5.41 20L4 18.59l7.72-7.72 1.47 1.35L5.41 20z\"/>\n",
              "  </svg>\n",
              "      </button>\n",
              "      \n",
              "  <style>\n",
              "    .colab-df-container {\n",
              "      display:flex;\n",
              "      flex-wrap:wrap;\n",
              "      gap: 12px;\n",
              "    }\n",
              "\n",
              "    .colab-df-convert {\n",
              "      background-color: #E8F0FE;\n",
              "      border: none;\n",
              "      border-radius: 50%;\n",
              "      cursor: pointer;\n",
              "      display: none;\n",
              "      fill: #1967D2;\n",
              "      height: 32px;\n",
              "      padding: 0 0 0 0;\n",
              "      width: 32px;\n",
              "    }\n",
              "\n",
              "    .colab-df-convert:hover {\n",
              "      background-color: #E2EBFA;\n",
              "      box-shadow: 0px 1px 2px rgba(60, 64, 67, 0.3), 0px 1px 3px 1px rgba(60, 64, 67, 0.15);\n",
              "      fill: #174EA6;\n",
              "    }\n",
              "\n",
              "    [theme=dark] .colab-df-convert {\n",
              "      background-color: #3B4455;\n",
              "      fill: #D2E3FC;\n",
              "    }\n",
              "\n",
              "    [theme=dark] .colab-df-convert:hover {\n",
              "      background-color: #434B5C;\n",
              "      box-shadow: 0px 1px 3px 1px rgba(0, 0, 0, 0.15);\n",
              "      filter: drop-shadow(0px 1px 2px rgba(0, 0, 0, 0.3));\n",
              "      fill: #FFFFFF;\n",
              "    }\n",
              "  </style>\n",
              "\n",
              "      <script>\n",
              "        const buttonEl =\n",
              "          document.querySelector('#df-25e0956e-7d4c-4f42-acfa-0ba404a94623 button.colab-df-convert');\n",
              "        buttonEl.style.display =\n",
              "          google.colab.kernel.accessAllowed ? 'block' : 'none';\n",
              "\n",
              "        async function convertToInteractive(key) {\n",
              "          const element = document.querySelector('#df-25e0956e-7d4c-4f42-acfa-0ba404a94623');\n",
              "          const dataTable =\n",
              "            await google.colab.kernel.invokeFunction('convertToInteractive',\n",
              "                                                     [key], {});\n",
              "          if (!dataTable) return;\n",
              "\n",
              "          const docLinkHtml = 'Like what you see? Visit the ' +\n",
              "            '<a target=\"_blank\" href=https://colab.research.google.com/notebooks/data_table.ipynb>data table notebook</a>'\n",
              "            + ' to learn more about interactive tables.';\n",
              "          element.innerHTML = '';\n",
              "          dataTable['output_type'] = 'display_data';\n",
              "          await google.colab.output.renderOutput(dataTable, element);\n",
              "          const docLink = document.createElement('div');\n",
              "          docLink.innerHTML = docLinkHtml;\n",
              "          element.appendChild(docLink);\n",
              "        }\n",
              "      </script>\n",
              "    </div>\n",
              "  </div>\n",
              "  "
            ]
          },
          "metadata": {},
          "execution_count": 4
        }
      ]
    },
    {
      "cell_type": "markdown",
      "source": [
        "3) Cual es el objetivo: \n",
        "* Utilizar la data arriba detallada para evaluar diferentes modelos de aprendizaje supervisado para elegir el mas adecuado que permita pronosticar de la mejor manera alguna caracteristica de da la data"
      ],
      "metadata": {
        "id": "PhZBGxdFbLpg"
      }
    },
    {
      "cell_type": "markdown",
      "source": [
        "4) ¿Este es un problema de clasificación o regresión?\n",
        "\n",
        "* Por las caracteristicas numericas de la data, este sera un problema de regresion. "
      ],
      "metadata": {
        "id": "8Vxm-0D-b5eM"
      }
    },
    {
      "cell_type": "markdown",
      "source": [
        "5) ¿Cuántas características hay?"
      ],
      "metadata": {
        "id": "RXWjvUyscK9p"
      }
    },
    {
      "cell_type": "code",
      "source": [
        "print(f\"La cantidad de caracteristicas es: {len(df1.keys())}\") \n",
        "print(f\"Las caracteristicas a trabajar son: {df1.columns}\")"
      ],
      "metadata": {
        "colab": {
          "base_uri": "https://localhost:8080/"
        },
        "id": "4eoJmqkucNZ1",
        "outputId": "54bbe4c4-63e4-4c93-b28a-0b7cd432b3ee"
      },
      "execution_count": 13,
      "outputs": [
        {
          "output_type": "stream",
          "name": "stdout",
          "text": [
            "La cantidad de caracteristicas es: 8\n",
            "Las caracteristicas a trabajar son: Index(['Unnamed: 0', 'Date', 'High', 'Low', 'Open', 'Close', 'Volume',\n",
            "       'Adj Close'],\n",
            "      dtype='object')\n"
          ]
        }
      ]
    },
    {
      "cell_type": "markdown",
      "source": [
        "6) ¿Cuántas filas de datos hay?"
      ],
      "metadata": {
        "id": "pHdG3dVGdXkJ"
      }
    },
    {
      "cell_type": "code",
      "source": [
        "filas=df1.shape[0]\n",
        "print(f\"Hay un total de {filas} filas\")"
      ],
      "metadata": {
        "colab": {
          "base_uri": "https://localhost:8080/"
        },
        "id": "Att6TS9hda9N",
        "outputId": "c07698dd-f6d6-4097-cf38-93b104b705e5"
      },
      "execution_count": 17,
      "outputs": [
        {
          "output_type": "stream",
          "name": "stdout",
          "text": [
            "Hay un total de 10752 filas\n"
          ]
        }
      ]
    },
    {
      "cell_type": "markdown",
      "source": [
        "7) ¿Qué retos, si es que hay alguno, prevén en la limpieza, exploración o modelización con este conjunto de datos?"
      ],
      "metadata": {
        "id": "8sYouyfqeGKn"
      }
    },
    {
      "cell_type": "code",
      "source": [
        "# revision de duplicados:"
      ],
      "metadata": {
        "id": "4zn4VA_wemcr"
      },
      "execution_count": 18,
      "outputs": []
    },
    {
      "cell_type": "code",
      "source": [
        "df1.columns.duplicated()   # revision en columnas"
      ],
      "metadata": {
        "colab": {
          "base_uri": "https://localhost:8080/"
        },
        "id": "0kZt3FtseLDv",
        "outputId": "1f9d1d91-8188-46b8-fc41-442dfd95aaff"
      },
      "execution_count": 23,
      "outputs": [
        {
          "output_type": "execute_result",
          "data": {
            "text/plain": [
              "array([False, False, False, False, False, False, False, False])"
            ]
          },
          "metadata": {},
          "execution_count": 23
        }
      ]
    },
    {
      "cell_type": "code",
      "source": [
        "df1.duplicated().sum()   # revision en filas"
      ],
      "metadata": {
        "colab": {
          "base_uri": "https://localhost:8080/"
        },
        "id": "Aab9uihvbJxm",
        "outputId": "b16d5fd2-8961-4d24-a1e0-c215b565f241"
      },
      "execution_count": 24,
      "outputs": [
        {
          "output_type": "execute_result",
          "data": {
            "text/plain": [
              "0"
            ]
          },
          "metadata": {},
          "execution_count": 24
        }
      ]
    },
    {
      "cell_type": "code",
      "source": [
        "# revision de datos faltantes"
      ],
      "metadata": {
        "id": "U_uqn43WbJql"
      },
      "execution_count": null,
      "outputs": []
    },
    {
      "cell_type": "code",
      "source": [
        "df1.info()"
      ],
      "metadata": {
        "colab": {
          "base_uri": "https://localhost:8080/"
        },
        "id": "PoO3UpnGbJnG",
        "outputId": "be0a559a-0998-4c60-f79c-f1385c717fd9"
      },
      "execution_count": 22,
      "outputs": [
        {
          "output_type": "stream",
          "name": "stdout",
          "text": [
            "<class 'pandas.core.frame.DataFrame'>\n",
            "RangeIndex: 10752 entries, 0 to 10751\n",
            "Data columns (total 8 columns):\n",
            " #   Column      Non-Null Count  Dtype  \n",
            "---  ------      --------------  -----  \n",
            " 0   Unnamed: 0  10752 non-null  int64  \n",
            " 1   Date        10752 non-null  object \n",
            " 2   High        10752 non-null  float64\n",
            " 3   Low         10752 non-null  float64\n",
            " 4   Open        10752 non-null  float64\n",
            " 5   Close       10752 non-null  float64\n",
            " 6   Volume      10752 non-null  float64\n",
            " 7   Adj Close   10752 non-null  float64\n",
            "dtypes: float64(6), int64(1), object(1)\n",
            "memory usage: 672.1+ KB\n"
          ]
        }
      ]
    },
    {
      "cell_type": "markdown",
      "source": [
        "La data no presenta duplicados ni en columnas ni en filas y tampoco tiene datos faltantes. Habra que analizar la data innecesaria, la correlacion de las variables, determinacion de la variable objetivo y la normalizacion de los valores en su mayoria numerico. El reto prinicpal en esta etapa sera evaluar la mejor manera de trabajar la caracteristica Date y su relevancia en el modelo. "
      ],
      "metadata": {
        "id": "ie-z3MNofKos"
      }
    },
    {
      "cell_type": "markdown",
      "source": [
        "## Segunda Opcion: "
      ],
      "metadata": {
        "id": "UjrlVoMzf_p7"
      }
    },
    {
      "cell_type": "markdown",
      "source": [
        "1) Fuente de datos: [Walmart Sales Dataset of 45stores](https://www.kaggle.com/datasets/varsharam/walmart-sales-dataset-of-45)"
      ],
      "metadata": {
        "id": "IUbhGtFMgG1r"
      }
    },
    {
      "cell_type": "markdown",
      "source": [
        "2) Breve descripcion de datos:\n",
        "\n",
        "* ¿Cómo utiliza Walmart Big Data?\n",
        "\n",
        "* Mejora del proceso de pago en la tienda: mediante el uso del análisis predictivo, las tiendas pueden anticipar la demanda en una semana determinada y determinar cuántos representantes de ventas/empleados se necesitan.\n",
        "\n",
        "* Gestión de los pasos de la cadena de suministro: la empresa optimiza las rutas al muelle de envío y realiza un seguimiento del número de veces que se accede al producto antes de que llegue al destino del Cliente. Además, utiliza los datos para analizar los carriles y rutas de transporte de los camiones de la empresa. Estos datos ayudan a Walmart a mantener bajos los costos de transporte y programar un horario adecuado para los conductores.\n",
        "\n",
        "* Optimización del surtido de productos: al analizar las preferencias de los clientes y los patrones de compra, Walmart acelera la toma de decisiones sobre cómo mantener las existencias. Big Data proporciona información sobre artículos nuevos y productos descontinuados. Personalización de la experiencia de compra: con Big Data, Walmart analiza las preferencias de compra de los clientes para desarrollar una experiencia de compra consistente y agradable.\n",
        "\n",
        "* y mucho más…"
      ],
      "metadata": {
        "id": "QpS4B6tCgdzg"
      }
    },
    {
      "cell_type": "markdown",
      "source": [
        "* Descripcion de los datos:\n",
        "\n",
        "| Column       | Description                                                                                                        |\n",
        "|--------------|--------------------------------------------------------------------------------------------------------------------|\n",
        "| Store        | Store Numbers ranging from 1 to 45                                                                                 |\n",
        "| Date         | The Week of Sales. It is in the format of dd-mm-yyyy. The date starts from 05-02-2010                              |\n",
        "| Weekly_Sales | The sales of the given store in the given week                                                                     |\n",
        "| Holiday_Flag | If the week has a special Holiday or not. 1-The week has a Holiday 0-Fully working week Holiday events is given in |\n",
        "| Temperature  | Average Temperature of the week of sales                                                                           |\n",
        "| Fuel_Price   | Price of the Fuel in the region of the given store                                                                 |\n",
        "| CPI          | Customer Price Index                                                                                               |\n",
        "| Unemployment | Unemployment of the given store region                                                                             |"
      ],
      "metadata": {
        "id": "mZS-ifsSiLXb"
      }
    },
    {
      "cell_type": "code",
      "source": [
        "filename=\"/content/walmart-sales-dataset-of-45stores.csv\"\n",
        "df2 = pd.read_csv(filename)\n",
        "df2.head()"
      ],
      "metadata": {
        "colab": {
          "base_uri": "https://localhost:8080/",
          "height": 206
        },
        "id": "iFe_6YMZCdaz",
        "outputId": "b3b0ccb1-1230-428f-e778-4b87f3670ac4"
      },
      "execution_count": 26,
      "outputs": [
        {
          "output_type": "execute_result",
          "data": {
            "text/plain": [
              "   Store        Date  Weekly_Sales  Holiday_Flag  Temperature  Fuel_Price  \\\n",
              "0      1  05-02-2010    1643690.90             0        42.31       2.572   \n",
              "1      1  12-02-2010    1641957.44             1        38.51       2.548   \n",
              "2      1  19-02-2010    1611968.17             0        39.93       2.514   \n",
              "3      1  26-02-2010    1409727.59             0        46.63       2.561   \n",
              "4      1  05-03-2010    1554806.68             0        46.50       2.625   \n",
              "\n",
              "          CPI  Unemployment  \n",
              "0  211.096358         8.106  \n",
              "1  211.242170         8.106  \n",
              "2  211.289143         8.106  \n",
              "3  211.319643         8.106  \n",
              "4  211.350143         8.106  "
            ],
            "text/html": [
              "\n",
              "  <div id=\"df-56d16c20-19f0-4557-8342-6faf9306e4dc\">\n",
              "    <div class=\"colab-df-container\">\n",
              "      <div>\n",
              "<style scoped>\n",
              "    .dataframe tbody tr th:only-of-type {\n",
              "        vertical-align: middle;\n",
              "    }\n",
              "\n",
              "    .dataframe tbody tr th {\n",
              "        vertical-align: top;\n",
              "    }\n",
              "\n",
              "    .dataframe thead th {\n",
              "        text-align: right;\n",
              "    }\n",
              "</style>\n",
              "<table border=\"1\" class=\"dataframe\">\n",
              "  <thead>\n",
              "    <tr style=\"text-align: right;\">\n",
              "      <th></th>\n",
              "      <th>Store</th>\n",
              "      <th>Date</th>\n",
              "      <th>Weekly_Sales</th>\n",
              "      <th>Holiday_Flag</th>\n",
              "      <th>Temperature</th>\n",
              "      <th>Fuel_Price</th>\n",
              "      <th>CPI</th>\n",
              "      <th>Unemployment</th>\n",
              "    </tr>\n",
              "  </thead>\n",
              "  <tbody>\n",
              "    <tr>\n",
              "      <th>0</th>\n",
              "      <td>1</td>\n",
              "      <td>05-02-2010</td>\n",
              "      <td>1643690.90</td>\n",
              "      <td>0</td>\n",
              "      <td>42.31</td>\n",
              "      <td>2.572</td>\n",
              "      <td>211.096358</td>\n",
              "      <td>8.106</td>\n",
              "    </tr>\n",
              "    <tr>\n",
              "      <th>1</th>\n",
              "      <td>1</td>\n",
              "      <td>12-02-2010</td>\n",
              "      <td>1641957.44</td>\n",
              "      <td>1</td>\n",
              "      <td>38.51</td>\n",
              "      <td>2.548</td>\n",
              "      <td>211.242170</td>\n",
              "      <td>8.106</td>\n",
              "    </tr>\n",
              "    <tr>\n",
              "      <th>2</th>\n",
              "      <td>1</td>\n",
              "      <td>19-02-2010</td>\n",
              "      <td>1611968.17</td>\n",
              "      <td>0</td>\n",
              "      <td>39.93</td>\n",
              "      <td>2.514</td>\n",
              "      <td>211.289143</td>\n",
              "      <td>8.106</td>\n",
              "    </tr>\n",
              "    <tr>\n",
              "      <th>3</th>\n",
              "      <td>1</td>\n",
              "      <td>26-02-2010</td>\n",
              "      <td>1409727.59</td>\n",
              "      <td>0</td>\n",
              "      <td>46.63</td>\n",
              "      <td>2.561</td>\n",
              "      <td>211.319643</td>\n",
              "      <td>8.106</td>\n",
              "    </tr>\n",
              "    <tr>\n",
              "      <th>4</th>\n",
              "      <td>1</td>\n",
              "      <td>05-03-2010</td>\n",
              "      <td>1554806.68</td>\n",
              "      <td>0</td>\n",
              "      <td>46.50</td>\n",
              "      <td>2.625</td>\n",
              "      <td>211.350143</td>\n",
              "      <td>8.106</td>\n",
              "    </tr>\n",
              "  </tbody>\n",
              "</table>\n",
              "</div>\n",
              "      <button class=\"colab-df-convert\" onclick=\"convertToInteractive('df-56d16c20-19f0-4557-8342-6faf9306e4dc')\"\n",
              "              title=\"Convert this dataframe to an interactive table.\"\n",
              "              style=\"display:none;\">\n",
              "        \n",
              "  <svg xmlns=\"http://www.w3.org/2000/svg\" height=\"24px\"viewBox=\"0 0 24 24\"\n",
              "       width=\"24px\">\n",
              "    <path d=\"M0 0h24v24H0V0z\" fill=\"none\"/>\n",
              "    <path d=\"M18.56 5.44l.94 2.06.94-2.06 2.06-.94-2.06-.94-.94-2.06-.94 2.06-2.06.94zm-11 1L8.5 8.5l.94-2.06 2.06-.94-2.06-.94L8.5 2.5l-.94 2.06-2.06.94zm10 10l.94 2.06.94-2.06 2.06-.94-2.06-.94-.94-2.06-.94 2.06-2.06.94z\"/><path d=\"M17.41 7.96l-1.37-1.37c-.4-.4-.92-.59-1.43-.59-.52 0-1.04.2-1.43.59L10.3 9.45l-7.72 7.72c-.78.78-.78 2.05 0 2.83L4 21.41c.39.39.9.59 1.41.59.51 0 1.02-.2 1.41-.59l7.78-7.78 2.81-2.81c.8-.78.8-2.07 0-2.86zM5.41 20L4 18.59l7.72-7.72 1.47 1.35L5.41 20z\"/>\n",
              "  </svg>\n",
              "      </button>\n",
              "      \n",
              "  <style>\n",
              "    .colab-df-container {\n",
              "      display:flex;\n",
              "      flex-wrap:wrap;\n",
              "      gap: 12px;\n",
              "    }\n",
              "\n",
              "    .colab-df-convert {\n",
              "      background-color: #E8F0FE;\n",
              "      border: none;\n",
              "      border-radius: 50%;\n",
              "      cursor: pointer;\n",
              "      display: none;\n",
              "      fill: #1967D2;\n",
              "      height: 32px;\n",
              "      padding: 0 0 0 0;\n",
              "      width: 32px;\n",
              "    }\n",
              "\n",
              "    .colab-df-convert:hover {\n",
              "      background-color: #E2EBFA;\n",
              "      box-shadow: 0px 1px 2px rgba(60, 64, 67, 0.3), 0px 1px 3px 1px rgba(60, 64, 67, 0.15);\n",
              "      fill: #174EA6;\n",
              "    }\n",
              "\n",
              "    [theme=dark] .colab-df-convert {\n",
              "      background-color: #3B4455;\n",
              "      fill: #D2E3FC;\n",
              "    }\n",
              "\n",
              "    [theme=dark] .colab-df-convert:hover {\n",
              "      background-color: #434B5C;\n",
              "      box-shadow: 0px 1px 3px 1px rgba(0, 0, 0, 0.15);\n",
              "      filter: drop-shadow(0px 1px 2px rgba(0, 0, 0, 0.3));\n",
              "      fill: #FFFFFF;\n",
              "    }\n",
              "  </style>\n",
              "\n",
              "      <script>\n",
              "        const buttonEl =\n",
              "          document.querySelector('#df-56d16c20-19f0-4557-8342-6faf9306e4dc button.colab-df-convert');\n",
              "        buttonEl.style.display =\n",
              "          google.colab.kernel.accessAllowed ? 'block' : 'none';\n",
              "\n",
              "        async function convertToInteractive(key) {\n",
              "          const element = document.querySelector('#df-56d16c20-19f0-4557-8342-6faf9306e4dc');\n",
              "          const dataTable =\n",
              "            await google.colab.kernel.invokeFunction('convertToInteractive',\n",
              "                                                     [key], {});\n",
              "          if (!dataTable) return;\n",
              "\n",
              "          const docLinkHtml = 'Like what you see? Visit the ' +\n",
              "            '<a target=\"_blank\" href=https://colab.research.google.com/notebooks/data_table.ipynb>data table notebook</a>'\n",
              "            + ' to learn more about interactive tables.';\n",
              "          element.innerHTML = '';\n",
              "          dataTable['output_type'] = 'display_data';\n",
              "          await google.colab.output.renderOutput(dataTable, element);\n",
              "          const docLink = document.createElement('div');\n",
              "          docLink.innerHTML = docLinkHtml;\n",
              "          element.appendChild(docLink);\n",
              "        }\n",
              "      </script>\n",
              "    </div>\n",
              "  </div>\n",
              "  "
            ]
          },
          "metadata": {},
          "execution_count": 26
        }
      ]
    },
    {
      "cell_type": "markdown",
      "source": [
        "3) Cual es el objetivo:\n",
        " \n",
        "* Utilizar la data arriba detallada para evaluar diferentes modelos de aprendizaje supervisado para elegir el mas adecuado que permita pronosticar de la mejor manera alguna caracteristica de da la data"
      ],
      "metadata": {
        "id": "CjM0UqW8hk5M"
      }
    },
    {
      "cell_type": "markdown",
      "source": [
        "4) ¿Este es un problema de clasificación o regresión?\n",
        "\n",
        "* Por las caracteristicas numericas de la data, este sera un problema de regresion."
      ],
      "metadata": {
        "id": "bKjy4c_FhCmX"
      }
    },
    {
      "cell_type": "markdown",
      "source": [
        "5) ¿Cuántas características hay?"
      ],
      "metadata": {
        "id": "K0iu0G9jihzF"
      }
    },
    {
      "cell_type": "code",
      "source": [
        "print(f\"La cantidad de caracteristicas es: {len(df2.keys())}\") \n",
        "print(f\"Las caracteristicas a trabajar son: {df2.columns}\")"
      ],
      "metadata": {
        "colab": {
          "base_uri": "https://localhost:8080/"
        },
        "id": "eGirX_87ioF4",
        "outputId": "4d46e0fa-54a5-4164-9fb9-b5163aaed08f"
      },
      "execution_count": 27,
      "outputs": [
        {
          "output_type": "stream",
          "name": "stdout",
          "text": [
            "La cantidad de caracteristicas es: 8\n",
            "Las caracteristicas a trabajar son: Index(['Store', 'Date', 'Weekly_Sales', 'Holiday_Flag', 'Temperature',\n",
            "       'Fuel_Price', 'CPI', 'Unemployment'],\n",
            "      dtype='object')\n"
          ]
        }
      ]
    },
    {
      "cell_type": "markdown",
      "source": [
        "6) ¿Cuántas filas de datos hay?"
      ],
      "metadata": {
        "id": "IxCjyxpQi1jf"
      }
    },
    {
      "cell_type": "code",
      "source": [
        "filas=df2.shape[0]\n",
        "print(f\"Hay un total de {filas} filas\")"
      ],
      "metadata": {
        "colab": {
          "base_uri": "https://localhost:8080/"
        },
        "id": "BfFZJ9inbJj2",
        "outputId": "56c43d22-cf36-4200-98e2-44497fb856a1"
      },
      "execution_count": 28,
      "outputs": [
        {
          "output_type": "stream",
          "name": "stdout",
          "text": [
            "Hay un total de 6435 filas\n"
          ]
        }
      ]
    },
    {
      "cell_type": "markdown",
      "source": [
        "7) ¿Qué retos, si es que hay alguno, prevén en la limpieza, exploración o modelización con este conjunto de datos?"
      ],
      "metadata": {
        "id": "7zNL0LjjjJ4_"
      }
    },
    {
      "cell_type": "code",
      "source": [
        "# revision de duplicados:"
      ],
      "metadata": {
        "id": "GMO-Sp4mbJge"
      },
      "execution_count": 30,
      "outputs": []
    },
    {
      "cell_type": "code",
      "source": [
        "df2.columns.duplicated()   # revision en columnas"
      ],
      "metadata": {
        "colab": {
          "base_uri": "https://localhost:8080/"
        },
        "id": "1K9YAFI4jScf",
        "outputId": "813f152e-6f82-4175-d6be-888f4e599606"
      },
      "execution_count": 29,
      "outputs": [
        {
          "output_type": "execute_result",
          "data": {
            "text/plain": [
              "array([False, False, False, False, False, False, False, False])"
            ]
          },
          "metadata": {},
          "execution_count": 29
        }
      ]
    },
    {
      "cell_type": "code",
      "source": [
        "df2.duplicated().sum()   # revision en filas"
      ],
      "metadata": {
        "colab": {
          "base_uri": "https://localhost:8080/"
        },
        "id": "rmT2Jv6bjSRx",
        "outputId": "75645dde-c4ac-49ed-d878-4c3f17b29b1d"
      },
      "execution_count": 31,
      "outputs": [
        {
          "output_type": "execute_result",
          "data": {
            "text/plain": [
              "0"
            ]
          },
          "metadata": {},
          "execution_count": 31
        }
      ]
    },
    {
      "cell_type": "code",
      "source": [
        "# revision de datos faltantes"
      ],
      "metadata": {
        "id": "Jot26CQ8jSOU"
      },
      "execution_count": null,
      "outputs": []
    },
    {
      "cell_type": "code",
      "source": [
        "df2.info()"
      ],
      "metadata": {
        "colab": {
          "base_uri": "https://localhost:8080/"
        },
        "id": "kIv0IpaXjSK0",
        "outputId": "0b157663-98fa-4b99-8f69-48ad344e1455"
      },
      "execution_count": 32,
      "outputs": [
        {
          "output_type": "stream",
          "name": "stdout",
          "text": [
            "<class 'pandas.core.frame.DataFrame'>\n",
            "RangeIndex: 6435 entries, 0 to 6434\n",
            "Data columns (total 8 columns):\n",
            " #   Column        Non-Null Count  Dtype  \n",
            "---  ------        --------------  -----  \n",
            " 0   Store         6435 non-null   int64  \n",
            " 1   Date          6435 non-null   object \n",
            " 2   Weekly_Sales  6435 non-null   float64\n",
            " 3   Holiday_Flag  6435 non-null   int64  \n",
            " 4   Temperature   6435 non-null   float64\n",
            " 5   Fuel_Price    6435 non-null   float64\n",
            " 6   CPI           6435 non-null   float64\n",
            " 7   Unemployment  6435 non-null   float64\n",
            "dtypes: float64(5), int64(2), object(1)\n",
            "memory usage: 402.3+ KB\n"
          ]
        }
      ]
    },
    {
      "cell_type": "markdown",
      "source": [
        "# Referencias"
      ],
      "metadata": {
        "id": "fQbOVTa0GaBe"
      }
    },
    {
      "cell_type": "markdown",
      "source": [
        "* [Kraggle](https://www.kaggle.com/)\n",
        "* [Curso Regression Models](https://github.com/fralfaro/CodingDojo-DataScience/blob/main/docs/6-RegressionModels/6-RegressionModels.ipynb)\n",
        "* [Curso MAT281_2022](https://github.com/fralfaro/MAT281_2022)\n",
        "* [Curso CodingDojo-DataScience](https://github.com/fralfaro/CodingDojo-DataScience)\n",
        "* [Pandas](file:///C:/Users/dpala/Documents/Coding_dojo-data-science/Python_intro/Los_fundamentos/2-Pandas.ipynb%20-%20Colaboratory.pdf)\n",
        "* [Visualizaciones](file:///C:/Users/dpala/Documents/Coding_dojo-data-science/Python_intro/Los_fundamentos/Visualizacion.pdf)\n",
        "* [Matploib](file:///C:/Users/dpala/Documents/Coding_dojo-data-science/Python_intro/Los_fundamentos/Matplotlib%20-%20Home.pdf)"
      ],
      "metadata": {
        "id": "T_oP5pjUxVi7"
      }
    }
  ]
}